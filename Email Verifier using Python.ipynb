{
 "cells": [
  {
   "cell_type": "code",
   "execution_count": 3,
   "metadata": {},
   "outputs": [
    {
     "name": "stdout",
     "output_type": "stream",
     "text": [
      "please enter the email address ram@gmail.com\n",
      "Email is Valid\n"
     ]
    }
   ],
   "source": [
    "import re   \n",
    "  \n",
    "regex = '^[a-z0-9]+[\\._]?[a-z0-9]+[@]\\w+[.]\\w{2,3}$'  \n",
    "  \n",
    "def check(email):   \n",
    "  \n",
    "    if(re.search(regex,email)):   \n",
    "        print(\"Email is Valid\")   \n",
    "    else:   \n",
    "        print(\"Email is Invalid\")   \n",
    "      \n",
    "if __name__ == '__main__' :   \n",
    "      \n",
    "    email= str(input('please enter the email address '))  \n",
    "    check(email)   \n",
    "  \n",
    "      "
   ]
  },
  {
   "cell_type": "code",
   "execution_count": null,
   "metadata": {},
   "outputs": [],
   "source": []
  }
 ],
 "metadata": {
  "kernelspec": {
   "display_name": "Python 3",
   "language": "python",
   "name": "python3"
  },
  "language_info": {
   "codemirror_mode": {
    "name": "ipython",
    "version": 3
   },
   "file_extension": ".py",
   "mimetype": "text/x-python",
   "name": "python",
   "nbconvert_exporter": "python",
   "pygments_lexer": "ipython3",
   "version": "3.8.8"
  }
 },
 "nbformat": 4,
 "nbformat_minor": 4
}
